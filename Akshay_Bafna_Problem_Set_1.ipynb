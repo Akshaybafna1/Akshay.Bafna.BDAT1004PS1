{
 "cells": [
  {
   "cell_type": "markdown",
   "id": "226493f5",
   "metadata": {},
   "source": [
    "# Question 1"
   ]
  },
  {
   "cell_type": "markdown",
   "id": "91c10dd9",
   "metadata": {},
   "source": [
    "5 - Integer\n",
    "\n",
    "5.0 - Float\n",
    "\n",
    "5 > 1- boolean as its a condition true \n",
    "\n",
    "'5'- string as its enclosed in quotes, single quotes\n",
    "\n",
    "5 * 2-integer as when you do multiplication operator after that the result is an integer\n",
    "\n",
    "'5' * 2-string data type as its a kind of repetition of strings \n",
    "\n",
    "'5' + '2'- string data type as '5' is a string and you did concatenation of 2 strings\n",
    "\n",
    "5 / 2-float as when you do division operation the remainder will be a floating numbers\n",
    "\n",
    "5 % 2-integer as its a result after applying  modulo operation which gives the remainder\n",
    "\n",
    "{5, 2, 1}-set this is a set data type which contains three integers\n",
    "\n",
    "5 == 3-boolean as again its a condition which is false\n",
    "\n",
    "Pi (the number)-float data type as its 22/7 which gives 3.14 which is a float.\n",
    "\n",
    "\n"
   ]
  },
  {
   "cell_type": "markdown",
   "id": "f44b3de4",
   "metadata": {},
   "source": [
    "# Question2"
   ]
  },
  {
   "cell_type": "markdown",
   "id": "4a401635",
   "metadata": {},
   "source": [
    "### a. How many letters are there in 'Supercalifragilisticexpialidocious'?"
   ]
  },
  {
   "cell_type": "code",
   "execution_count": 3,
   "id": "07a0a2bb",
   "metadata": {
    "scrolled": true
   },
   "outputs": [
    {
     "name": "stdout",
     "output_type": "stream",
     "text": [
      "There are 34 letters in the string.\n"
     ]
    }
   ],
   "source": [
    "akshay = 'Supercalifragilisticexpialidocious'\n",
    "letterscount = len([char for char in akshay if char.isalpha()])\n",
    "print(f\"There are {letterscount} letters in the string.\")\n"
   ]
  },
  {
   "cell_type": "markdown",
   "id": "3f4c68f0",
   "metadata": {},
   "source": [
    "# b. Does 'Supercalifragilisticexpialidocious' contain 'ice' as a substring?\n"
   ]
  },
  {
   "cell_type": "code",
   "execution_count": 4,
   "id": "cc1ffa8c",
   "metadata": {},
   "outputs": [
    {
     "name": "stdout",
     "output_type": "stream",
     "text": [
      "'ice' is a substring of the given string.\n"
     ]
    }
   ],
   "source": [
    "bafna = 'Supercalifragilisticexpialidocious'\n",
    "substring_to_find = 'ice'\n",
    "\n",
    "if substring_to_find in bafna:\n",
    "    print(f\"'{substring_to_find}' is a substring of the given string.\")\n",
    "else:\n",
    "    print(f\"'{substring_to_find}' is not a substring of the given string.\")\n"
   ]
  },
  {
   "cell_type": "markdown",
   "id": "77d3c933",
   "metadata": {},
   "source": [
    "# c. Which of the following words is the longest:Supercalifragilisticexpialidocious, Honorificabilitudinitatibus, orBababadalgharaghtakamminarronnkonn?"
   ]
  },
  {
   "cell_type": "code",
   "execution_count": 5,
   "id": "b40ca24b",
   "metadata": {},
   "outputs": [
    {
     "name": "stdout",
     "output_type": "stream",
     "text": [
      "The longest word is: Supercalifragilisticexpialidocious\n"
     ]
    }
   ],
   "source": [
    "words = [\n",
    "    'Supercalifragilisticexpialidocious',\n",
    "    'Honorificabilitudinitatibus',\n",
    "    'Bababadalgharaghtakamminarronnkonn'\n",
    "]\n",
    "\n",
    "longest_word = max(words, key=len)\n",
    "\n",
    "print(f\"The longest word is: {longest_word}\")\n"
   ]
  },
  {
   "cell_type": "markdown",
   "id": "317cb013",
   "metadata": {},
   "source": [
    "# d. Which composer comes first in the dictionary: 'Berlioz', 'Borodin', 'Brian',\n",
    "'Bartok', 'Bellini', 'Buxtehude', 'Bernstein'. Which one comes last?\n"
   ]
  },
  {
   "cell_type": "code",
   "execution_count": 6,
   "id": "0c0a2ac7",
   "metadata": {},
   "outputs": [
    {
     "name": "stdout",
     "output_type": "stream",
     "text": [
      "The first composer in the dictionary is: Bartok\n",
      "The last composer in the dictionary is: Buxtehude\n"
     ]
    }
   ],
   "source": [
    "composers = ['Berlioz', 'Borodin', 'Brian', 'Bartok', 'Bellini', 'Buxtehude', 'Bernstein']\n",
    "\n",
    "first_composer = min(composers)\n",
    "last_composer = max(composers)\n",
    "\n",
    "print(f\"The first composer in the dictionary is: {first_composer}\")\n",
    "print(f\"The last composer in the dictionary is: {last_composer}\")\n"
   ]
  },
  {
   "cell_type": "markdown",
   "id": "832755a3",
   "metadata": {},
   "source": [
    "# Question 3\n",
    "Implement function triangleArea(a,b,c) that takes as input the lengths of the 3\n",
    "sides of a triangle and returns the area of the triangle. By Heron's formula, the area\n",
    "of a triangle with side lengths a, b, and c is\n",
    "s(s - a)(s -b)(s -c)\n",
    ", where\n",
    "s = (a+b+c)/2.\n",
    ">>> triangleArea(2,2,2)\n",
    "1.7320508075688772"
   ]
  },
  {
   "cell_type": "code",
   "execution_count": 18,
   "id": "499f58ac",
   "metadata": {},
   "outputs": [
    {
     "name": "stdout",
     "output_type": "stream",
     "text": [
      "1.7320508075688772\n"
     ]
    }
   ],
   "source": [
    "import math\n",
    "\n",
    "def triangleArea(a, b, c):\n",
    "    s = (a + b + c) / 2\n",
    "    \n",
    "    area = math.sqrt(s * (s - a) * (s - b) * (s - c))\n",
    "    \n",
    "    return area\n",
    "\n",
    "area = triangleArea(2, 2, 2)\n",
    "print(area) \n"
   ]
  },
  {
   "cell_type": "markdown",
   "id": "8a949f39",
   "metadata": {},
   "source": [
    "# question 4 Write a program in python to separate odd and even integers in separate arrays. Go\n",
    "to the editor\n",
    "Test Data :\n",
    "Input the number of elements to be stored in the array :5\n",
    "Input 5 elements in the array :\n",
    "element - 0 : 25\n",
    "element - 1 : 47\n",
    "element - 2 : 42\n",
    "element - 3 : 56\n",
    "element - 4 : 32\n",
    "Expected Output:\n",
    "The Even elements are:\n",
    "42 56 32\n",
    "The Odd elements are :\n",
    "25 47"
   ]
  },
  {
   "cell_type": "code",
   "execution_count": 17,
   "id": "ed642b86",
   "metadata": {
    "scrolled": true
   },
   "outputs": [
    {
     "name": "stdout",
     "output_type": "stream",
     "text": [
      "Input the number of elements to be stored in the array: 4\n",
      "Element - 0 : 1\n",
      "Element - 1 : 2\n",
      "Element - 2 : 3\n",
      "Element - 3 : 4\n",
      "The Even elements are:\n",
      "2 4\n",
      "The Odd elements are:\n",
      "1 3\n"
     ]
    }
   ],
   "source": [
    "\n",
    "y = int(input(\"Input the number of elements to be stored in the array: \"))\n",
    "\n",
    "even_numbers = []\n",
    "odd_numbers = []\n",
    "\n",
    "for i in range(y):\n",
    "    element = int(input(f\"Element - {i} : \"))\n",
    "    if element % 2 == 0:\n",
    "        even_numbers.append(element)\n",
    "    else:\n",
    "        odd_numbers.append(element)\n",
    "\n",
    "print(\"The Even elements are:\")\n",
    "print(\" \".join(map(str, even_numbers)))\n",
    "\n",
    "print(\"The Odd elements are:\")\n",
    "print(\" \".join(map(str, odd_numbers)))\n"
   ]
  },
  {
   "cell_type": "markdown",
   "id": "14b05dd7",
   "metadata": {},
   "source": [
    "#question 5 Write a function inside(x,y,x1,y1,x2,y2) that returns True or False\n",
    "depending on whether the point (x,y) lies in the rectangle with lower left\n",
    "corner (x1,y1) and upper right corner (x2,y2).\n",
    ">>> inside(1,1,0,0,2,3)\n",
    "True\n",
    ">>> inside(-1,-1,0,0,2,3)\n",
    "False"
   ]
  },
  {
   "cell_type": "code",
   "execution_count": 15,
   "id": "b7b8fc29",
   "metadata": {},
   "outputs": [
    {
     "name": "stdout",
     "output_type": "stream",
     "text": [
      "True\n",
      "False\n"
     ]
    }
   ],
   "source": [
    "def inside(x, y, x1, y1, x2, y2):\n",
    "    return x1 <= x <= x2 and y1 <= y <= y2\n",
    "\n",
    "result1 = inside(1, 1, 0, 0, 2, 3)\n",
    "print(result1)  \n",
    "\n",
    "result2 = inside(-1, -1, 0, 0, 2, 3)\n",
    "print(result2)  \n"
   ]
  },
  {
   "cell_type": "markdown",
   "id": "b5e53baf",
   "metadata": {},
   "source": [
    "# question 5 second part . Use function inside() from part a. to write an expression that tests whetherthe point (1,1) lies in both of the following rectangles: one with lower left corner (0.3, 0.5) and upper right corner (1.1, 0.7) and the other with lower left corner (0.5, 0.2) and upper right corner (1.1, 2). "
   ]
  },
  {
   "cell_type": "code",
   "execution_count": 16,
   "id": "45b0a733",
   "metadata": {},
   "outputs": [
    {
     "name": "stdout",
     "output_type": "stream",
     "text": [
      "False\n"
     ]
    }
   ],
   "source": [
    "\n",
    "x, y = 1, 1\n",
    "\n",
    "rect1_result = inside(x, y, 0.3, 0.5, 1.1, 0.7)\n",
    "\n",
    "rect2_result = inside(x, y, 0.5, 0.2, 1.1, 2)\n",
    "\n",
    "result = rect1_result and rect2_result\n",
    "\n",
    "print(result) \n"
   ]
  },
  {
   "cell_type": "markdown",
   "id": "b42fb550",
   "metadata": {},
   "source": [
    "# question 6 "
   ]
  },
  {
   "cell_type": "code",
   "execution_count": 13,
   "id": "072dd5c3",
   "metadata": {},
   "outputs": [
    {
     "name": "stdout",
     "output_type": "stream",
     "text": [
      "appyhay\n",
      "enterway\n"
     ]
    }
   ],
   "source": [
    "def pig(word):\n",
    "    \n",
    "    word = word.lower()\n",
    "    \n",
    "\n",
    "    vowels = {'a', 'e', 'i', 'o', 'u'}\n",
    "    \n",
    "    if word[0] in vowels:\n",
    "        \n",
    "        pig_latin = word + 'way'\n",
    "    else:\n",
    "        \n",
    "        pig_latin = word[1:] + word[0] + 'ay'\n",
    "    \n",
    "    return pig_latin\n",
    "\n",
    "# Example usage:\n",
    "print(pig('happy'))  \n",
    "print(pig('Enter'))  \n"
   ]
  },
  {
   "cell_type": "markdown",
   "id": "cffa3efb",
   "metadata": {},
   "source": [
    "# question 7 File bloodtype1.txt records blood-types of patients (A, B, AB, O or OO) at a clinic. Write a function bldcount() that reads the file with name name and reports (i.e.,prints) how many patients there are in each bloodtype.\n",
    ">>> bldcount('bloodtype.txt')\n",
    "There are 10 patients of blood type A.\n",
    "There is one patient of blood type B.\n",
    "There are 10 patients of blood type AB.\n",
    "There are 12 patients of blood type O.\n",
    "There are no patients of blood type OO."
   ]
  },
  {
   "cell_type": "code",
   "execution_count": 8,
   "id": "9e46a2d3",
   "metadata": {},
   "outputs": [
    {
     "name": "stdout",
     "output_type": "stream",
     "text": [
      "There are no patients of blood type A.\n",
      "There are no patients of blood type B.\n",
      "There are no patients of blood type AB.\n",
      "There are no patients of blood type O.\n",
      "There are no patients of blood type OO.\n"
     ]
    }
   ],
   "source": [
    "def bldcount(filename):\n",
    "    blood_type_counts = {\n",
    "        'A': 0,\n",
    "        'B': 0,\n",
    "        'AB': 0,\n",
    "        'O': 0,\n",
    "        'OO': 0\n",
    "    }\n",
    "\n",
    "    try:\n",
    "        with open(filename, 'r') as file:\n",
    "            for line in file:\n",
    "                blood_type = line.strip()\n",
    "                if blood_type in blood_type_counts:\n",
    "                    blood_type_counts[blood_type] += 1\n",
    "\n",
    "        for blood_type, count in blood_type_counts.items():\n",
    "            if count == 1:\n",
    "                print(f\"There is one patient of blood type {blood_type}.\")\n",
    "            elif count > 1:\n",
    "                print(f\"There are {count} patients of blood type {blood_type}.\")\n",
    "            else:\n",
    "                print(f\"There are no patients of blood type {blood_type}.\")\n",
    "\n",
    "    except FileNotFoundError:\n",
    "        print(f\"The file {filename} was not found.\")\n",
    "\n",
    "\n",
    "bldcount('bloodtype1.txt')\n"
   ]
  },
  {
   "cell_type": "markdown",
   "id": "580d309a",
   "metadata": {},
   "source": [
    "#  question 8 \n",
    "Write a function curconv() that takes as input:\n",
    "1. a currency represented using a string (e.g., 'JPY' for the Japanese Yen or\n",
    "'EUR' for the Euro)\n",
    "2. an amount\n",
    "and then converts and returns the amount in US dollars.\n",
    ">>> curconv('EUR', 100)\n",
    "122.96544\n",
    ">>> curconv('JPY', 100)\n",
    "1.241401\n",
    "The currency rates you will need are stored in file currencies.txt:\n",
    "AUD 1.0345157 Australian Dollar\n",
    "CHF 1.0237414 Swiss Franc\n",
    "CNY 0.1550176 Chinese Yuan\n",
    "DKK 0.1651442 Danish Krone\n",
    "EUR 1.2296544 Euro\n",
    "GBP 1.5550989 British Pound\n",
    "HKD 0.1270207 Hong Kong Dollar\n",
    "INR 0.0177643 Indian Rupee\n",
    "JPY 0.01241401 Japanese Yen\n",
    "MXN 0.0751848 Mexican Peso\n",
    "MYR 0.3145411 Malaysian Ringgit\n",
    "NOK 0.1677063 Norwegian Krone\n",
    "NZD 0.8003591 New Zealand Dollar\n",
    "PHP 0.0233234 Philippine Peso\n",
    "SEK 0.148269 Swedish Krona\n",
    "SGD 0.788871 Singapore Dollar\n",
    "THB 0.0313789 Thai Baht\n"
   ]
  },
  {
   "cell_type": "code",
   "execution_count": 9,
   "id": "0931b8f0",
   "metadata": {},
   "outputs": [
    {
     "name": "stdout",
     "output_type": "stream",
     "text": [
      "122.96544\n",
      "1.241401\n"
     ]
    }
   ],
   "source": [
    "def curconv(currency, amount):\n",
    "    try:\n",
    "        with open('currencies.txt', 'r') as file:\n",
    "            exchange_rates = {}\n",
    "            for line in file:\n",
    "                parts = line.split()\n",
    "                if len(parts) >= 3:\n",
    "                    code, rate = parts[:2]\n",
    "                    exchange_rates[code] = float(rate)\n",
    "\n",
    "            if currency in exchange_rates:\n",
    "                return round(amount * exchange_rates[currency], 6)\n",
    "            else:\n",
    "                return \"Currency code not found in exchange rates.\"\n",
    "    except FileNotFoundError:\n",
    "        return \"File 'currencies.txt' not found.\"\n",
    "\n",
    "\n",
    "usd_amount1 = curconv('EUR', 100)\n",
    "print(usd_amount1)  \n",
    "\n",
    "usd_amount2 = curconv('JPY', 100)\n",
    "print(usd_amount2)  \n"
   ]
  },
  {
   "cell_type": "markdown",
   "id": "3bc33af0",
   "metadata": {},
   "source": [
    "# question 9 \n"
   ]
  },
  {
   "cell_type": "markdown",
   "id": "af546cdb",
   "metadata": {},
   "source": [
    " ### a Trying to add incompatible variables, as inadding 6 + ‘a’\n"
   ]
  },
  {
   "cell_type": "markdown",
   "id": "993f48df",
   "metadata": {},
   "source": [
    "type error as two incompatible data you are adding integer and string"
   ]
  },
  {
   "cell_type": "markdown",
   "id": "d4487951",
   "metadata": {},
   "source": [
    "# b Referring to the 12th item of a list that has only 10\n",
    "items\n"
   ]
  },
  {
   "cell_type": "markdown",
   "id": "d05b31cd",
   "metadata": {},
   "source": [
    "index error as valid range is 10 items but you are accessing beyond the range "
   ]
  },
  {
   "cell_type": "markdown",
   "id": "4992fd81",
   "metadata": {},
   "source": [
    "# c Using a value that is out of range for a function’s\n",
    "input, such as calling math.sqrt(-1.0)"
   ]
  },
  {
   "cell_type": "markdown",
   "id": "92ddcf4e",
   "metadata": {},
   "source": [
    "value error as square root of a negative number is not possible"
   ]
  },
  {
   "cell_type": "markdown",
   "id": "3154c27f",
   "metadata": {},
   "source": [
    "d Using an undeclared variable, such as print(x)\n",
    "when x has not been defined "
   ]
  },
  {
   "cell_type": "markdown",
   "id": "07bdbae8",
   "metadata": {},
   "source": [
    "answer - name error as you havent defined the variable and trying to print it."
   ]
  },
  {
   "cell_type": "markdown",
   "id": "5e1352a5",
   "metadata": {},
   "source": [
    "# e Trying to open a file that does not exist, such as\n",
    "mistyping the file name or looking in the wrong\n",
    "directory."
   ]
  },
  {
   "cell_type": "markdown",
   "id": "cf9c6493",
   "metadata": {},
   "source": [
    "file not found error as the file which is going to access cant be found in directory means the requested file is not available for reading."
   ]
  },
  {
   "cell_type": "markdown",
   "id": "c9189fce",
   "metadata": {},
   "source": [
    "# question 10 Encryption is the process of hiding the meaning of a text by substituting letters in the\n",
    "message with other letters, according to some system. If the process is successful, no\n",
    "one but the intended recipient can understand the encrypted message. Cryptanalysis\n",
    "refers to attempts to undo the encryption, even if some details of the encryption are\n",
    "unknown (for example, if an encrypted message has been intercepted). The first step\n",
    "of cryptanalysis is often to build up a table of letter frequencies in the encrypted text.\n",
    "Assume that the string letters is already defined as\n",
    "'abcdefghijklmnopqrstuvwxyz'. Write a function called frequencies()\n",
    "that takes a string as its only parameter, and returns a list of integers, showing the\n",
    "number of times each character appears in the text. Your function may ignore any\n",
    "characters that are not in letters.\n",
    ">>> frequencies('The quick red fox got bored and went home.')\n",
    "[1, 1, 1, 3, 5, 1, 1, 2, 1, 0, 1, 0, 1, 2, 4, 0, 1, 2, 0, 2,\n",
    "1, 0, 1, 1, 0, 0]\n",
    ">>> frequencies('apple')"
   ]
  },
  {
   "cell_type": "code",
   "execution_count": 14,
   "id": "16dfebe7",
   "metadata": {},
   "outputs": [
    {
     "name": "stdout",
     "output_type": "stream",
     "text": [
      "[1, 1, 1, 3, 5, 1, 1, 2, 1, 0, 1, 0, 1, 2, 4, 0, 1, 2, 0, 3, 1, 0, 1, 1, 0, 0]\n",
      "[1, 0, 0, 0, 1, 0, 0, 0, 0, 0, 0, 1, 0, 0, 0, 2, 0, 0, 0, 0, 0, 0, 0, 0, 0, 0]\n"
     ]
    }
   ],
   "source": [
    "def frequencies(text):\n",
    "    \n",
    "    m = 'abcdefghijklmnopqrstuvwxyz'\n",
    "    \n",
    "    frequency_list = [0] * len(m)\n",
    "    \n",
    "    text = text.lower()\n",
    "    \n",
    "    for char in text:\n",
    "        if char in m:\n",
    "            index = m.index(char)\n",
    "            frequency_list[index] += 1\n",
    "    \n",
    "    return frequency_list\n",
    "\n",
    "\n",
    "result = frequencies('The quick red fox got bored and went home.')\n",
    "print(result)  \n",
    "\n",
    "result2 = frequencies('apple')\n",
    "print(result2)  \n"
   ]
  }
 ],
 "metadata": {
  "kernelspec": {
   "display_name": "Python 3 (ipykernel)",
   "language": "python",
   "name": "python3"
  },
  "language_info": {
   "codemirror_mode": {
    "name": "ipython",
    "version": 3
   },
   "file_extension": ".py",
   "mimetype": "text/x-python",
   "name": "python",
   "nbconvert_exporter": "python",
   "pygments_lexer": "ipython3",
   "version": "3.11.4"
  }
 },
 "nbformat": 4,
 "nbformat_minor": 5
}
